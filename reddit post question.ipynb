{
 "cells": [
  {
   "cell_type": "code",
   "execution_count": 4,
   "id": "69f01d36",
   "metadata": {},
   "outputs": [],
   "source": [
    "import numpy as np\n",
    "import random"
   ]
  },
  {
   "cell_type": "code",
   "execution_count": 106,
   "id": "c48d45fb",
   "metadata": {},
   "outputs": [],
   "source": [
    "class reddit_game:\n",
    "    def __init__(self):\n",
    "        self.numbers_left = list(range(1,13))\n",
    "        self.die1 = 0\n",
    "        self.die2 = 0\n",
    "        self.gameover = False\n",
    "        \n",
    "    def roll(self):\n",
    "        self.die1 = random.randint(1,6)\n",
    "        self.die2 = random.randint(1,6)\n",
    "        \n",
    "    def enact_policy(self):\n",
    "        #print(self.die1,self.die2)\n",
    "        if (self.die1+self.die2) in self.numbers_left:\n",
    "            self.numbers_left.remove(self.die1+self.die2)\n",
    "            #print(self.numbers_left)\n",
    "            self.gameover =  False\n",
    "        \n",
    "        elif (self.die1 != self.die2) and (self.die1 in self.numbers_left) and (self.die2 in self.numbers_left):\n",
    "            self.numbers_left.remove(self.die1)\n",
    "            self.numbers_left.remove(self.die2)\n",
    "            #print(self.numbers_left)\n",
    "            self.gameover =  False\n",
    "        \n",
    "        elif self.die1 in self.numbers_left:\n",
    "            self.numbers_left.remove(self.die1)\n",
    "            #print(self.numbers_left)\n",
    "            self.gameover = True\n",
    "        \n",
    "        elif self.die2 in self.numbers_left:\n",
    "            self.numbers_left.remove(self.die2)\n",
    "            #print(self.numbers_left)\n",
    "            self.gameover = True\n",
    "        \n",
    "        else:\n",
    "            self.gameover = True\n",
    "        \n",
    "    def check_for_win(self):\n",
    "        return self.numbers_left == []"
   ]
  },
  {
   "cell_type": "code",
   "execution_count": 118,
   "id": "3488fd12",
   "metadata": {},
   "outputs": [],
   "source": [
    "iterations = 30\n",
    "rep_count = np.zeros(iterations)\n",
    "for rep in range(iterations):\n",
    "    winner_count = 0\n",
    "    for x in range(1000000):\n",
    "        game = reddit_game()\n",
    "        while not game.gameover:\n",
    "            game.roll()\n",
    "            game.enact_policy()\n",
    "            if game.check_for_win() == True:\n",
    "                winner_count += 1\n",
    "    rep_count[rep] = winner_count/1000000"
   ]
  },
  {
   "cell_type": "code",
   "execution_count": 119,
   "id": "724c241d",
   "metadata": {},
   "outputs": [
    {
     "name": "stdout",
     "output_type": "stream",
     "text": [
      "mean probability of winning is 0.0007582666666666666 with std dev of 3.432485332169033e-05\n"
     ]
    }
   ],
   "source": [
    "print(f'mean probability of winning is {rep_count.mean()} with a std dev of {rep_count.std()}')"
   ]
  },
  {
   "cell_type": "code",
   "execution_count": null,
   "id": "d168e98a",
   "metadata": {},
   "outputs": [],
   "source": []
  }
 ],
 "metadata": {
  "kernelspec": {
   "display_name": "Python 3 (ipykernel)",
   "language": "python",
   "name": "python3"
  },
  "language_info": {
   "codemirror_mode": {
    "name": "ipython",
    "version": 3
   },
   "file_extension": ".py",
   "mimetype": "text/x-python",
   "name": "python",
   "nbconvert_exporter": "python",
   "pygments_lexer": "ipython3",
   "version": "3.10.9"
  }
 },
 "nbformat": 4,
 "nbformat_minor": 5
}
